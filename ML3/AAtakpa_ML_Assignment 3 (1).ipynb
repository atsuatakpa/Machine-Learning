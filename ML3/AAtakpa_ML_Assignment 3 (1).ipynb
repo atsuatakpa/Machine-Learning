{
 "cells": [
  {
   "cell_type": "markdown",
   "metadata": {},
   "source": [
    "#### Machine Learning Assignment 3\n",
    "##### Atsu Atakpa"
   ]
  },
  {
   "cell_type": "markdown",
   "metadata": {},
   "source": [
    "##### Load Train and Test datasets from population_accidents.m\n",
    " \n",
    "##### some stuff to make it easier\n",
    "import h5py\n",
    "f = h5py.File('somefile.mat','r')\n",
    "f.keys()\n",
    "list(f.get('x_train'))\n",
    " \n",
    " Create linear regression object called f using the  function called fit\n",
    " specify a first order polynomial (i.e. linear fit)\n",
    " \n",
    " A more comprensive output can be obtained using\n",
    " \n",
    " Create a variable called y_predicted_train that predicts\n",
    " the output for the training dataset\n",
    " \n",
    " Create a variable called y_predicted_test that predicts\n",
    " the output for the test dataset\n",
    " \n",
    " Plot a diagram of the data.\n",
    " 1. The x-axis should be the input x-data (the population)\n",
    " 2. the y-axis should be the output y-data (the number of accidents)\n",
    " 3. add a grid (graph paper)\n",
    " 4. add a legend\n",
    " 5. label the x and y-axis\n",
    " 6. add a title\n",
    " 7. Save the result to a png file called linearregression.png\n",
    " \n",
    " \n",
    " save the plot to a png file\n",
    " \n",
    " calculate the mean square error (MSE) for the prediction of the training and test points\n",
    " create variables called mse_train and mse_test\n",
    " \n",
    " calculate the correlation coefficients for the training called r_train and the test data called r_test\n",
    " with the associated linear fits\n",
    " \n",
    " Draw a scatter diagram to characterize how good the linear estimates of\n",
    " the number of accidents are. This scatter diagram should include:\n",
    " 1. The 1:1 perfect fit line (use the plot function)\n",
    " to add curves to the same plot check out 'hold on'\n",
    " 2. The training data and its associated linear fit (use the scatter function)\n",
    " 3. The test data and its associated linear fit (use the scatter function)\n",
    " 4. A legend that contains the R value in the label (check out the legend function and num2str)\n",
    " 5. Save the result to a png file called linearregression-scatter-m.png (check out the print function)"
   ]
  },
  {
   "cell_type": "markdown",
   "metadata": {},
   "source": [
    "### Begin"
   ]
  },
  {
   "cell_type": "code",
   "execution_count": 1,
   "metadata": {},
   "outputs": [
    {
     "name": "stderr",
     "output_type": "stream",
     "text": [
      "C:\\ProgramData\\Anaconda3\\lib\\site-packages\\h5py\\__init__.py:36: FutureWarning: Conversion of the second argument of issubdtype from `float` to `np.floating` is deprecated. In future, it will be treated as `np.float64 == np.dtype(float).type`.\n",
      "  from ._conv import register_converters as _register_converters\n"
     ]
    },
    {
     "data": {
      "text/plain": [
       "[array([  572059.,   608827.,   626932.,   642200.,   754844.,   783600.,\n",
       "          902195.,  1048319.,  1211537.,  1274923.,  1293953.,  1711263.,\n",
       "         1808344.,  1819046.,  1998257.,  2233169.,  2673400.,  2688418.,\n",
       "         2926324.,  3405565.,  3421399.,  3450654.,  4012012.,  4041769.,\n",
       "         4301261.,  4447100.,  4468976.,  5130632.,  5296486.,  5363675.,\n",
       "         5595211.,  5689283.,  5894121.,  6080485.,  6349097.,  7078515.,\n",
       "         8186453.,  8414350.,  9938444., 11353140., 12281054., 12419293.,\n",
       "        15982378., 18976457., 20851820.])]"
      ]
     },
     "execution_count": 1,
     "metadata": {},
     "output_type": "execute_result"
    }
   ],
   "source": [
    "# Load Train and Test datasets from population_accidents.m\n",
    " \n",
    "# some stuff to make it easier\n",
    "import numpy as np\n",
    "import h5py\n",
    "f = h5py.File('C:/Users/atsua/OneDrive/Documents/SMU/6. Machine Learning/Assignment 3/population_accidents.mat','r')\n",
    "f.keys()\n",
    "list(f.get('x_train'))\n"
   ]
  },
  {
   "cell_type": "code",
   "execution_count": 2,
   "metadata": {},
   "outputs": [
    {
     "data": {
      "text/plain": [
       "['x_test', 'x_train', 'y_test', 'y_train']"
      ]
     },
     "execution_count": 2,
     "metadata": {},
     "output_type": "execute_result"
    }
   ],
   "source": [
    "# Listing the contents of our file\n",
    "ls = list(f.keys())\n",
    "ls"
   ]
  },
  {
   "cell_type": "code",
   "execution_count": 3,
   "metadata": {},
   "outputs": [],
   "source": [
    "x_train = list(f.get('x_train'))\n",
    "x_test = list(f.get('x_test'))\n",
    "y_train = list(f.get('y_train'))\n",
    "y_test = list(f.get('x_test'))"
   ]
  },
  {
   "cell_type": "code",
   "execution_count": 4,
   "metadata": {},
   "outputs": [
    {
     "data": {
      "text/plain": [
       "[array([  572059.,   608827.,   626932.,   642200.,   754844.,   783600.,\n",
       "          902195.,  1048319.,  1211537.,  1274923.,  1293953.,  1711263.,\n",
       "         1808344.,  1819046.,  1998257.,  2233169.,  2673400.,  2688418.,\n",
       "         2926324.,  3405565.,  3421399.,  3450654.,  4012012.,  4041769.,\n",
       "         4301261.,  4447100.,  4468976.,  5130632.,  5296486.,  5363675.,\n",
       "         5595211.,  5689283.,  5894121.,  6080485.,  6349097.,  7078515.,\n",
       "         8186453.,  8414350.,  9938444., 11353140., 12281054., 12419293.,\n",
       "        15982378., 18976457., 20851820.])]"
      ]
     },
     "execution_count": 4,
     "metadata": {},
     "output_type": "execute_result"
    }
   ],
   "source": [
    "#Checing the content of our training dataset\n",
    "x_train"
   ]
  },
  {
   "cell_type": "markdown",
   "metadata": {},
   "source": [
    "#### Linear Regression"
   ]
  },
  {
   "cell_type": "code",
   "execution_count": 5,
   "metadata": {},
   "outputs": [],
   "source": [
    "import matplotlib.pyplot as plt\n",
    "import numpy as np\n",
    "from sklearn import datasets, linear_model\n",
    "from sklearn.metrics import mean_squared_error, r2_score\n",
    "from sklearn.metrics import mean_squared_error\n"
   ]
  },
  {
   "cell_type": "code",
   "execution_count": 6,
   "metadata": {},
   "outputs": [],
   "source": [
    "#Creating a regression object\n",
    "regr = linear_model.LinearRegression()"
   ]
  },
  {
   "cell_type": "code",
   "execution_count": 7,
   "metadata": {},
   "outputs": [
    {
     "name": "stdout",
     "output_type": "stream",
     "text": [
      "The shape of the x_train dataset is (1, 45)\n",
      "The shape of the y_train dataset is (1, 45)\n",
      "The shape of the x_test dataset is (1, 6)\n",
      "The shape of the y_test dataset is (1, 6)\n"
     ]
    }
   ],
   "source": [
    "# Let's look at the shape of out datasets\n",
    "print('The shape of the x_train dataset is',np.shape(x_train))\n",
    "print('The shape of the y_train dataset is',np.shape(y_train))\n",
    "print('The shape of the x_test dataset is',np.shape(x_test))\n",
    "print('The shape of the y_test dataset is',np.shape(y_test))"
   ]
  },
  {
   "cell_type": "code",
   "execution_count": 8,
   "metadata": {},
   "outputs": [],
   "source": [
    "# Converting the data to numpy array for better manipulation and transformation before regression\n",
    "x_train = np.asarray(x_train, dtype=np.float64)\n",
    "y_train = np.asarray(y_train, dtype=np.float64)\n",
    "x_test = np.asarray(x_test, dtype=np.float64)\n",
    "y_test = np.asarray(y_test, dtype=np.float64)"
   ]
  },
  {
   "cell_type": "code",
   "execution_count": 9,
   "metadata": {},
   "outputs": [
    {
     "data": {
      "text/plain": [
       "(array([[  572059.,   608827.,   626932.,   642200.,   754844.,   783600.,\n",
       "           902195.,  1048319.,  1211537.,  1274923.,  1293953.,  1711263.,\n",
       "          1808344.,  1819046.,  1998257.,  2233169.,  2673400.,  2688418.,\n",
       "          2926324.,  3405565.,  3421399.,  3450654.,  4012012.,  4041769.,\n",
       "          4301261.,  4447100.,  4468976.,  5130632.,  5296486.,  5363675.,\n",
       "          5595211.,  5689283.,  5894121.,  6080485.,  6349097.,  7078515.,\n",
       "          8186453.,  8414350.,  9938444., 11353140., 12281054., 12419293.,\n",
       "         15982378., 18976457., 20851820.]]),\n",
       " array([[  43.,   98.,  101.,  100.,  197.,  134.,  229.,   83.,  142.,\n",
       "          194.,  260.,  254.,  411.,  521.,  395.,  296.,  704.,  461.,\n",
       "          390.,  291.,  456.,  774., 1046.,  964.,  665., 1154.,  904.,\n",
       "         1150.,  643.,  792., 1130., 1288.,  563.,  947.,  476.,  925.,\n",
       "         1634.,  731., 1159., 1286., 1490., 1356., 3244., 1493., 3583.]]),\n",
       " array([[  493782.,  1235786.,  2844658.,  4919479.,  8049313., 33871648.]]),\n",
       " array([[  493782.,  1235786.,  2844658.,  4919479.,  8049313., 33871648.]]))"
      ]
     },
     "execution_count": 9,
     "metadata": {},
     "output_type": "execute_result"
    }
   ],
   "source": [
    "x_train, y_train, x_test, y_test"
   ]
  },
  {
   "cell_type": "code",
   "execution_count": null,
   "metadata": {},
   "outputs": [],
   "source": []
  },
  {
   "cell_type": "code",
   "execution_count": 10,
   "metadata": {},
   "outputs": [],
   "source": [
    "x_train = x_train.reshape(45,1)\n",
    "y_train = y_train.reshape(45,1)\n",
    "x_test = x_test.reshape(6,1)\n",
    "y_test = y_test.reshape(6,1)"
   ]
  },
  {
   "cell_type": "code",
   "execution_count": 11,
   "metadata": {},
   "outputs": [
    {
     "data": {
      "text/plain": [
       "array([[  493782.],\n",
       "       [ 1235786.],\n",
       "       [ 2844658.],\n",
       "       [ 4919479.],\n",
       "       [ 8049313.],\n",
       "       [33871648.]])"
      ]
     },
     "execution_count": 11,
     "metadata": {},
     "output_type": "execute_result"
    }
   ],
   "source": [
    "#Checking the shape and contents of one of our arrays\n",
    "np.shape(x_test)\n",
    "x_test"
   ]
  },
  {
   "cell_type": "code",
   "execution_count": 12,
   "metadata": {},
   "outputs": [],
   "source": [
    "#Fitting the data to our training dataset\n",
    "f = regr.fit(x_train, y_train)"
   ]
  },
  {
   "cell_type": "code",
   "execution_count": 13,
   "metadata": {},
   "outputs": [],
   "source": [
    "# Running the model on our test dataset\n",
    "y_predicted_train = f.predict(x_test)"
   ]
  },
  {
   "cell_type": "code",
   "execution_count": 14,
   "metadata": {},
   "outputs": [
    {
     "name": "stdout",
     "output_type": "stream",
     "text": [
      "Coefficients: \n",
      " [[0.00013244]]\n"
     ]
    }
   ],
   "source": [
    "# Printing the Coefficients\n",
    "print('Coefficients: \\n', regr.coef_)"
   ]
  },
  {
   "cell_type": "code",
   "execution_count": 15,
   "metadata": {},
   "outputs": [
    {
     "name": "stdout",
     "output_type": "stream",
     "text": [
      "Mean squared error: 207633922776864.38\n"
     ]
    }
   ],
   "source": [
    "# Printing the MSE\n",
    "print(\"Mean squared error: %.2f\"\n",
    "      % mean_squared_error(y_test, y_predicted_train))"
   ]
  },
  {
   "cell_type": "code",
   "execution_count": 16,
   "metadata": {},
   "outputs": [
    {
     "name": "stdout",
     "output_type": "stream",
     "text": [
      "Variance score: -0.55\n"
     ]
    }
   ],
   "source": [
    "print('Variance score: %.2f' % r2_score(y_test, y_predicted_train))"
   ]
  },
  {
   "cell_type": "code",
   "execution_count": 17,
   "metadata": {},
   "outputs": [],
   "source": [
    "#print('MSE Sklearn is:', mean_squared_error(y,yhat_sklearn))\n",
    "#print('MSE Numpy is:', mean_squared_error(y,yhat_numpy))"
   ]
  },
  {
   "cell_type": "code",
   "execution_count": 25,
   "metadata": {},
   "outputs": [
    {
     "data": {
      "text/plain": [
       "Text(0,0.5,'Number of Accidents')"
      ]
     },
     "execution_count": 25,
     "metadata": {},
     "output_type": "execute_result"
    },
    {
     "data": {
      "image/png": "[encoded data removed]",
      "text/plain": [
       "<matplotlib.figure.Figure at 0x21268961a58>"
      ]
     },
     "metadata": {},
     "output_type": "display_data"
    }
   ],
   "source": [
    "#Creating a scatter plot of our x data\n",
    "plt.scatter(x_train,y_train,  color='black')\n",
    "plt.title('Scatter Plot of population accident data')\n",
    "plt.xlabel('Population')\n",
    "plt.ylabel('Number of Accidents')"
   ]
  },
  {
   "cell_type": "code",
   "execution_count": 19,
   "metadata": {},
   "outputs": [
    {
     "name": "stdout",
     "output_type": "stream",
     "text": [
      "Mean squared error for Train: 207633922776864.38\n",
      "Mean squared error For Test: 207633922776864.38\n"
     ]
    }
   ],
   "source": [
    "# Printing the MSE For Train and Test\n",
    "print(\"Mean squared error for Train: %.2f\"\n",
    "      % mean_squared_error(x_test, y_predicted_train))\n",
    "print(\"Mean squared error For Test: %.2f\"\n",
    "      % mean_squared_error(y_test, y_predicted_train))"
   ]
  },
  {
   "cell_type": "code",
   "execution_count": 20,
   "metadata": {},
   "outputs": [
    {
     "data": {
      "text/plain": [
       "-0.5464940342313962"
      ]
     },
     "execution_count": 20,
     "metadata": {},
     "output_type": "execute_result"
    }
   ],
   "source": [
    "from sklearn.metrics import r2_score\n",
    "r_value = r2_score(x_test, y_predicted_train) \n",
    "r_value"
   ]
  },
  {
   "cell_type": "code",
   "execution_count": 23,
   "metadata": {},
   "outputs": [
    {
     "data": {
      "image/png": "[encoded data removed]",
      "text/plain": [
       "<matplotlib.figure.Figure at 0x2126824d1d0>"
      ]
     },
     "metadata": {},
     "output_type": "display_data"
    }
   ],
   "source": [
    "from mlxtend.plotting import plot_linear_regression\n",
    "plt.scatter(x_train, y_train,  color='black')\n",
    "plt.plot(x_test, y_predicted_train,color='blue', linewidth=1)\n",
    "plt.legend(['Line of best fit',\"R value:%.2f\" %(r_value)])\n",
    "plt.xticks(())\n",
    "plt.yticks(())\n",
    "\n",
    "plt.show()"
   ]
  },
  {
   "cell_type": "markdown",
   "metadata": {},
   "source": [
    "### References: \n",
    "http://scikit-learn.org/stable/auto_examples/linear_model/plot_ols.html\n"
   ]
  },
  {
   "cell_type": "code",
   "execution_count": null,
   "metadata": {},
   "outputs": [],
   "source": []
  }
 ],
 "metadata": {
  "kernelspec": {
   "display_name": "Python 3",
   "language": "python",
   "name": "python3"
  },
  "language_info": {
   "codemirror_mode": {
    "name": "ipython",
    "version": 3
   },
   "file_extension": ".py",
   "mimetype": "text/x-python",
   "name": "python",
   "nbconvert_exporter": "python",
   "pygments_lexer": "ipython3",
   "version": "3.7.1"
  }
 },
 "nbformat": 4,
 "nbformat_minor": 2
}
